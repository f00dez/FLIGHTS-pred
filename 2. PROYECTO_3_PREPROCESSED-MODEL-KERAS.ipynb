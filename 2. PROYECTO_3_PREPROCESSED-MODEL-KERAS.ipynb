{
 "cells": [
  {
   "cell_type": "markdown",
   "id": "53d34768",
   "metadata": {},
   "source": [
    "### KERAS MODEL"
   ]
  },
  {
   "cell_type": "code",
   "execution_count": 2,
   "id": "bd1dfd9d",
   "metadata": {},
   "outputs": [],
   "source": [
    "# ¡NO EJECUTAR NOTEBOOK!"
   ]
  },
  {
   "cell_type": "code",
   "execution_count": 1,
   "id": "16b0ec66",
   "metadata": {},
   "outputs": [],
   "source": [
    "# Este notebook se elaboró sin tener en cuenta los ourliers."
   ]
  },
  {
   "cell_type": "code",
   "execution_count": 1,
   "id": "805bb1c7",
   "metadata": {},
   "outputs": [],
   "source": [
    "import pandas as pd\n",
    "import numpy as np\n",
    "\n",
    "import pickle as pkl"
   ]
  },
  {
   "cell_type": "code",
   "execution_count": 2,
   "id": "3b7d3b42",
   "metadata": {},
   "outputs": [],
   "source": [
    "from sklearn.preprocessing import MinMaxScaler\n",
    "from sklearn.model_selection import train_test_split\n",
    "from sklearn.metrics import r2_score\n",
    "import matplotlib.pyplot as plt\n",
    "\n",
    "from sklearn.ensemble import RandomForestRegressor"
   ]
  },
  {
   "cell_type": "code",
   "execution_count": 3,
   "id": "9e9d034b",
   "metadata": {},
   "outputs": [],
   "source": [
    "import tensorflow as tf\n",
    "\n",
    "from keras.models import Sequential\n",
    "from keras.layers.core import Dense, Dropout, Activation\n",
    "from keras import optimizers, regularizers\n",
    "from keras.optimizers import Adam"
   ]
  },
  {
   "cell_type": "code",
   "execution_count": 34,
   "id": "de1acbe2",
   "metadata": {},
   "outputs": [],
   "source": [
    "# Con outliers\n",
    "df_all = pd.read_parquet(\"data/dataset_final.parquet/\")"
   ]
  },
  {
   "cell_type": "code",
   "execution_count": 5,
   "id": "df596fee",
   "metadata": {
    "scrolled": false
   },
   "outputs": [],
   "source": [
    "df_all.drop([\"DepartureDelayGroups\", \"DepTime\", \"CRSDepTime\", \"CRSArrTime\", \"DepDel15\",\n",
    "             \"FlightDate\", \"DepDelayMinutes\", \"ArrTime\", \"ArrDelayMinutes\", \n",
    "             \"ArrivalDelayGroups\", \"ArrDel15\", \"ArrDelay\"], axis = 1, inplace = True)"
   ]
  },
  {
   "cell_type": "code",
   "execution_count": 8,
   "id": "abdabac4",
   "metadata": {
    "scrolled": false
   },
   "outputs": [
    {
     "data": {
      "text/html": [
       "<div>\n",
       "<style scoped>\n",
       "    .dataframe tbody tr th:only-of-type {\n",
       "        vertical-align: middle;\n",
       "    }\n",
       "\n",
       "    .dataframe tbody tr th {\n",
       "        vertical-align: top;\n",
       "    }\n",
       "\n",
       "    .dataframe thead th {\n",
       "        text-align: right;\n",
       "    }\n",
       "</style>\n",
       "<table border=\"1\" class=\"dataframe\">\n",
       "  <thead>\n",
       "    <tr style=\"text-align: right;\">\n",
       "      <th></th>\n",
       "      <th>DepDelay</th>\n",
       "      <th>AirTime</th>\n",
       "      <th>CRSElapsedTime</th>\n",
       "      <th>ActualElapsedTime</th>\n",
       "      <th>Distance</th>\n",
       "      <th>Year</th>\n",
       "      <th>Quarter</th>\n",
       "      <th>Month</th>\n",
       "      <th>DayofMonth</th>\n",
       "      <th>DayOfWeek</th>\n",
       "      <th>...</th>\n",
       "      <th>Operating_AirlineIndex</th>\n",
       "      <th>Tail_NumberIndex</th>\n",
       "      <th>OriginCityNameIndex</th>\n",
       "      <th>OriginStateIndex</th>\n",
       "      <th>OriginStateNameIndex</th>\n",
       "      <th>DestCityNameIndex</th>\n",
       "      <th>DestStateIndex</th>\n",
       "      <th>DestStateNameIndex</th>\n",
       "      <th>DepTimeBlkIndex</th>\n",
       "      <th>ArrTimeBlkIndex</th>\n",
       "    </tr>\n",
       "  </thead>\n",
       "  <tbody>\n",
       "    <tr>\n",
       "      <th>0</th>\n",
       "      <td>-5.0</td>\n",
       "      <td>54.0</td>\n",
       "      <td>88.0</td>\n",
       "      <td>74.0</td>\n",
       "      <td>302.0</td>\n",
       "      <td>2018</td>\n",
       "      <td>1</td>\n",
       "      <td>1</td>\n",
       "      <td>1</td>\n",
       "      <td>1</td>\n",
       "      <td>...</td>\n",
       "      <td>8.0</td>\n",
       "      <td>1237.0</td>\n",
       "      <td>1.0</td>\n",
       "      <td>4.0</td>\n",
       "      <td>4.0</td>\n",
       "      <td>134.0</td>\n",
       "      <td>31.0</td>\n",
       "      <td>31.0</td>\n",
       "      <td>9.0</td>\n",
       "      <td>8.0</td>\n",
       "    </tr>\n",
       "    <tr>\n",
       "      <th>1</th>\n",
       "      <td>-7.0</td>\n",
       "      <td>50.0</td>\n",
       "      <td>83.0</td>\n",
       "      <td>96.0</td>\n",
       "      <td>302.0</td>\n",
       "      <td>2018</td>\n",
       "      <td>1</td>\n",
       "      <td>1</td>\n",
       "      <td>1</td>\n",
       "      <td>1</td>\n",
       "      <td>...</td>\n",
       "      <td>8.0</td>\n",
       "      <td>1237.0</td>\n",
       "      <td>134.0</td>\n",
       "      <td>31.0</td>\n",
       "      <td>31.0</td>\n",
       "      <td>1.0</td>\n",
       "      <td>4.0</td>\n",
       "      <td>4.0</td>\n",
       "      <td>5.0</td>\n",
       "      <td>5.0</td>\n",
       "    </tr>\n",
       "    <tr>\n",
       "      <th>2</th>\n",
       "      <td>-1.0</td>\n",
       "      <td>55.0</td>\n",
       "      <td>85.0</td>\n",
       "      <td>76.0</td>\n",
       "      <td>399.0</td>\n",
       "      <td>2018</td>\n",
       "      <td>1</td>\n",
       "      <td>1</td>\n",
       "      <td>1</td>\n",
       "      <td>1</td>\n",
       "      <td>...</td>\n",
       "      <td>8.0</td>\n",
       "      <td>1682.0</td>\n",
       "      <td>1.0</td>\n",
       "      <td>4.0</td>\n",
       "      <td>4.0</td>\n",
       "      <td>184.0</td>\n",
       "      <td>7.0</td>\n",
       "      <td>7.0</td>\n",
       "      <td>17.0</td>\n",
       "      <td>15.0</td>\n",
       "    </tr>\n",
       "    <tr>\n",
       "      <th>3</th>\n",
       "      <td>-6.0</td>\n",
       "      <td>30.0</td>\n",
       "      <td>60.0</td>\n",
       "      <td>50.0</td>\n",
       "      <td>147.0</td>\n",
       "      <td>2018</td>\n",
       "      <td>1</td>\n",
       "      <td>1</td>\n",
       "      <td>1</td>\n",
       "      <td>1</td>\n",
       "      <td>...</td>\n",
       "      <td>8.0</td>\n",
       "      <td>6794.0</td>\n",
       "      <td>1.0</td>\n",
       "      <td>4.0</td>\n",
       "      <td>4.0</td>\n",
       "      <td>170.0</td>\n",
       "      <td>31.0</td>\n",
       "      <td>31.0</td>\n",
       "      <td>8.0</td>\n",
       "      <td>10.0</td>\n",
       "    </tr>\n",
       "    <tr>\n",
       "      <th>4</th>\n",
       "      <td>-8.0</td>\n",
       "      <td>31.0</td>\n",
       "      <td>66.0</td>\n",
       "      <td>48.0</td>\n",
       "      <td>147.0</td>\n",
       "      <td>2018</td>\n",
       "      <td>1</td>\n",
       "      <td>1</td>\n",
       "      <td>1</td>\n",
       "      <td>1</td>\n",
       "      <td>...</td>\n",
       "      <td>8.0</td>\n",
       "      <td>6794.0</td>\n",
       "      <td>170.0</td>\n",
       "      <td>31.0</td>\n",
       "      <td>31.0</td>\n",
       "      <td>1.0</td>\n",
       "      <td>4.0</td>\n",
       "      <td>4.0</td>\n",
       "      <td>8.0</td>\n",
       "      <td>1.0</td>\n",
       "    </tr>\n",
       "    <tr>\n",
       "      <th>...</th>\n",
       "      <td>...</td>\n",
       "      <td>...</td>\n",
       "      <td>...</td>\n",
       "      <td>...</td>\n",
       "      <td>...</td>\n",
       "      <td>...</td>\n",
       "      <td>...</td>\n",
       "      <td>...</td>\n",
       "      <td>...</td>\n",
       "      <td>...</td>\n",
       "      <td>...</td>\n",
       "      <td>...</td>\n",
       "      <td>...</td>\n",
       "      <td>...</td>\n",
       "      <td>...</td>\n",
       "      <td>...</td>\n",
       "      <td>...</td>\n",
       "      <td>...</td>\n",
       "      <td>...</td>\n",
       "      <td>...</td>\n",
       "      <td>...</td>\n",
       "    </tr>\n",
       "    <tr>\n",
       "      <th>28059883</th>\n",
       "      <td>-11.0</td>\n",
       "      <td>32.0</td>\n",
       "      <td>72.0</td>\n",
       "      <td>86.0</td>\n",
       "      <td>143.0</td>\n",
       "      <td>2022</td>\n",
       "      <td>3</td>\n",
       "      <td>7</td>\n",
       "      <td>31</td>\n",
       "      <td>7</td>\n",
       "      <td>...</td>\n",
       "      <td>5.0</td>\n",
       "      <td>853.0</td>\n",
       "      <td>79.0</td>\n",
       "      <td>5.0</td>\n",
       "      <td>5.0</td>\n",
       "      <td>15.0</td>\n",
       "      <td>14.0</td>\n",
       "      <td>14.0</td>\n",
       "      <td>8.0</td>\n",
       "      <td>0.0</td>\n",
       "    </tr>\n",
       "    <tr>\n",
       "      <th>28059884</th>\n",
       "      <td>-9.0</td>\n",
       "      <td>79.0</td>\n",
       "      <td>127.0</td>\n",
       "      <td>125.0</td>\n",
       "      <td>583.0</td>\n",
       "      <td>2022</td>\n",
       "      <td>3</td>\n",
       "      <td>7</td>\n",
       "      <td>31</td>\n",
       "      <td>7</td>\n",
       "      <td>...</td>\n",
       "      <td>5.0</td>\n",
       "      <td>1197.0</td>\n",
       "      <td>99.0</td>\n",
       "      <td>7.0</td>\n",
       "      <td>7.0</td>\n",
       "      <td>15.0</td>\n",
       "      <td>14.0</td>\n",
       "      <td>14.0</td>\n",
       "      <td>6.0</td>\n",
       "      <td>6.0</td>\n",
       "    </tr>\n",
       "    <tr>\n",
       "      <th>28059885</th>\n",
       "      <td>-12.0</td>\n",
       "      <td>51.0</td>\n",
       "      <td>88.0</td>\n",
       "      <td>77.0</td>\n",
       "      <td>296.0</td>\n",
       "      <td>2022</td>\n",
       "      <td>3</td>\n",
       "      <td>7</td>\n",
       "      <td>31</td>\n",
       "      <td>7</td>\n",
       "      <td>...</td>\n",
       "      <td>5.0</td>\n",
       "      <td>1061.0</td>\n",
       "      <td>40.0</td>\n",
       "      <td>21.0</td>\n",
       "      <td>21.0</td>\n",
       "      <td>0.0</td>\n",
       "      <td>3.0</td>\n",
       "      <td>3.0</td>\n",
       "      <td>7.0</td>\n",
       "      <td>6.0</td>\n",
       "    </tr>\n",
       "    <tr>\n",
       "      <th>28059886</th>\n",
       "      <td>-3.0</td>\n",
       "      <td>115.0</td>\n",
       "      <td>150.0</td>\n",
       "      <td>161.0</td>\n",
       "      <td>748.0</td>\n",
       "      <td>2022</td>\n",
       "      <td>3</td>\n",
       "      <td>7</td>\n",
       "      <td>31</td>\n",
       "      <td>7</td>\n",
       "      <td>...</td>\n",
       "      <td>5.0</td>\n",
       "      <td>884.0</td>\n",
       "      <td>24.0</td>\n",
       "      <td>16.0</td>\n",
       "      <td>16.0</td>\n",
       "      <td>15.0</td>\n",
       "      <td>14.0</td>\n",
       "      <td>14.0</td>\n",
       "      <td>7.0</td>\n",
       "      <td>2.0</td>\n",
       "    </tr>\n",
       "    <tr>\n",
       "      <th>28059887</th>\n",
       "      <td>-4.0</td>\n",
       "      <td>49.0</td>\n",
       "      <td>92.0</td>\n",
       "      <td>77.0</td>\n",
       "      <td>200.0</td>\n",
       "      <td>2022</td>\n",
       "      <td>3</td>\n",
       "      <td>7</td>\n",
       "      <td>31</td>\n",
       "      <td>7</td>\n",
       "      <td>...</td>\n",
       "      <td>5.0</td>\n",
       "      <td>1076.0</td>\n",
       "      <td>17.0</td>\n",
       "      <td>17.0</td>\n",
       "      <td>17.0</td>\n",
       "      <td>15.0</td>\n",
       "      <td>14.0</td>\n",
       "      <td>14.0</td>\n",
       "      <td>12.0</td>\n",
       "      <td>1.0</td>\n",
       "    </tr>\n",
       "  </tbody>\n",
       "</table>\n",
       "<p>28059888 rows × 46 columns</p>\n",
       "</div>"
      ],
      "text/plain": [
       "          DepDelay  AirTime  CRSElapsedTime  ActualElapsedTime  Distance  \\\n",
       "0             -5.0     54.0            88.0               74.0     302.0   \n",
       "1             -7.0     50.0            83.0               96.0     302.0   \n",
       "2             -1.0     55.0            85.0               76.0     399.0   \n",
       "3             -6.0     30.0            60.0               50.0     147.0   \n",
       "4             -8.0     31.0            66.0               48.0     147.0   \n",
       "...            ...      ...             ...                ...       ...   \n",
       "28059883     -11.0     32.0            72.0               86.0     143.0   \n",
       "28059884      -9.0     79.0           127.0              125.0     583.0   \n",
       "28059885     -12.0     51.0            88.0               77.0     296.0   \n",
       "28059886      -3.0    115.0           150.0              161.0     748.0   \n",
       "28059887      -4.0     49.0            92.0               77.0     200.0   \n",
       "\n",
       "          Year  Quarter  Month  DayofMonth  DayOfWeek  ...  \\\n",
       "0         2018        1      1           1          1  ...   \n",
       "1         2018        1      1           1          1  ...   \n",
       "2         2018        1      1           1          1  ...   \n",
       "3         2018        1      1           1          1  ...   \n",
       "4         2018        1      1           1          1  ...   \n",
       "...        ...      ...    ...         ...        ...  ...   \n",
       "28059883  2022        3      7          31          7  ...   \n",
       "28059884  2022        3      7          31          7  ...   \n",
       "28059885  2022        3      7          31          7  ...   \n",
       "28059886  2022        3      7          31          7  ...   \n",
       "28059887  2022        3      7          31          7  ...   \n",
       "\n",
       "          Operating_AirlineIndex  Tail_NumberIndex  OriginCityNameIndex  \\\n",
       "0                            8.0            1237.0                  1.0   \n",
       "1                            8.0            1237.0                134.0   \n",
       "2                            8.0            1682.0                  1.0   \n",
       "3                            8.0            6794.0                  1.0   \n",
       "4                            8.0            6794.0                170.0   \n",
       "...                          ...               ...                  ...   \n",
       "28059883                     5.0             853.0                 79.0   \n",
       "28059884                     5.0            1197.0                 99.0   \n",
       "28059885                     5.0            1061.0                 40.0   \n",
       "28059886                     5.0             884.0                 24.0   \n",
       "28059887                     5.0            1076.0                 17.0   \n",
       "\n",
       "          OriginStateIndex  OriginStateNameIndex  DestCityNameIndex  \\\n",
       "0                      4.0                   4.0              134.0   \n",
       "1                     31.0                  31.0                1.0   \n",
       "2                      4.0                   4.0              184.0   \n",
       "3                      4.0                   4.0              170.0   \n",
       "4                     31.0                  31.0                1.0   \n",
       "...                    ...                   ...                ...   \n",
       "28059883               5.0                   5.0               15.0   \n",
       "28059884               7.0                   7.0               15.0   \n",
       "28059885              21.0                  21.0                0.0   \n",
       "28059886              16.0                  16.0               15.0   \n",
       "28059887              17.0                  17.0               15.0   \n",
       "\n",
       "          DestStateIndex  DestStateNameIndex  DepTimeBlkIndex  ArrTimeBlkIndex  \n",
       "0                   31.0                31.0              9.0              8.0  \n",
       "1                    4.0                 4.0              5.0              5.0  \n",
       "2                    7.0                 7.0             17.0             15.0  \n",
       "3                   31.0                31.0              8.0             10.0  \n",
       "4                    4.0                 4.0              8.0              1.0  \n",
       "...                  ...                 ...              ...              ...  \n",
       "28059883            14.0                14.0              8.0              0.0  \n",
       "28059884            14.0                14.0              6.0              6.0  \n",
       "28059885             3.0                 3.0              7.0              6.0  \n",
       "28059886            14.0                14.0              7.0              2.0  \n",
       "28059887            14.0                14.0             12.0              1.0  \n",
       "\n",
       "[28059888 rows x 46 columns]"
      ]
     },
     "execution_count": 8,
     "metadata": {},
     "output_type": "execute_result"
    }
   ],
   "source": [
    "df_all"
   ]
  },
  {
   "cell_type": "code",
   "execution_count": 36,
   "id": "d4392fe4",
   "metadata": {},
   "outputs": [
    {
     "data": {
      "text/plain": [
       "[PhysicalDevice(name='/physical_device:GPU:0', device_type='GPU')]"
      ]
     },
     "execution_count": 36,
     "metadata": {},
     "output_type": "execute_result"
    }
   ],
   "source": [
    "# Comprobamos que TensorFlow usa la GPU\n",
    "tf.config.list_physical_devices(\"GPU\")"
   ]
  },
  {
   "cell_type": "markdown",
   "id": "d774fddf",
   "metadata": {},
   "source": [
    "### MinMaxScaler"
   ]
  },
  {
   "cell_type": "code",
   "execution_count": 37,
   "id": "8fdc62bb",
   "metadata": {},
   "outputs": [],
   "source": [
    "X = df_all.drop(\"DepDelay\", axis = 1)\n",
    "y = df_all[[\"DepDelay\"]].values"
   ]
  },
  {
   "cell_type": "markdown",
   "id": "77317646",
   "metadata": {},
   "source": [
    "Hicimos una **copia** para mantener la X inicial que posteriormente escalariamos y usaríamos en el modelo. Decidimos usar la copia para **.future_selection** y **.features_importances**."
   ]
  },
  {
   "cell_type": "code",
   "execution_count": 38,
   "id": "93c20172",
   "metadata": {},
   "outputs": [],
   "source": [
    "# X_copy = X.copy()"
   ]
  },
  {
   "cell_type": "code",
   "execution_count": 39,
   "id": "7e5d137a",
   "metadata": {},
   "outputs": [],
   "source": [
    "# feature_names = np.array(X.columns)"
   ]
  },
  {
   "cell_type": "code",
   "execution_count": 40,
   "id": "e1a81027",
   "metadata": {},
   "outputs": [],
   "source": [
    "# X_scaler = MinMaxScaler()\n",
    "# X_copy = X_scaler.fit_transform(X_copy)\n",
    "\n",
    "# X_copy"
   ]
  },
  {
   "cell_type": "code",
   "execution_count": 41,
   "id": "d5c74887",
   "metadata": {},
   "outputs": [],
   "source": [
    "X = X[[\"DestStateNameIndex\", \"TaxiOut\", \"DepTimeBlkIndex\", \"WheelsOff\",\n",
    "       \"DestWac\", \"AirTime\", \"CRSElapsedTime\", \"Operating_AirlineIndex\",\n",
    "       \"Month\", \"OriginStateNameIndex\", \"Flight_Number_Operating_Airline\",\n",
    "       \"WheelsOn\", \"AirlineIndex\", \"DOT_ID_Marketing_Airline\",\n",
    "       \"ActualElapsedTime\", \"OriginAirportSeqID\",\n",
    "       \"DOT_ID_Operating_Airline\", \"Quarter\", \"Tail_NumberIndex\",\n",
    "       \"DestAirportSeqID\", \"OriginCityMarketID\", \"OriginIndex\", \"DayofMonth\"]]"
   ]
  },
  {
   "cell_type": "code",
   "execution_count": 42,
   "id": "5dec5a62",
   "metadata": {},
   "outputs": [
    {
     "data": {
      "text/plain": [
       "array([[0.59615385, 0.0625    , 0.5       , ..., 0.0539337 , 0.00258398,\n",
       "        0.        ],\n",
       "       [0.07692308, 0.15625   , 0.27777778, ..., 0.08114795, 0.35917313,\n",
       "        0.        ],\n",
       "       [0.13461538, 0.0703125 , 0.94444444, ..., 0.0539337 , 0.00258398,\n",
       "        0.        ],\n",
       "       ...,\n",
       "       [0.05769231, 0.078125  , 0.38888889, ..., 0.16427511, 0.11886305,\n",
       "        1.        ],\n",
       "       [0.26923077, 0.1015625 , 0.38888889, ..., 0.10275441, 0.06976744,\n",
       "        1.        ],\n",
       "       [0.26923077, 0.0703125 , 0.66666667, ..., 0.10737259, 0.04134367,\n",
       "        1.        ]])"
      ]
     },
     "execution_count": 42,
     "metadata": {},
     "output_type": "execute_result"
    }
   ],
   "source": [
    "X_scaler = MinMaxScaler()\n",
    "X = X_scaler.fit_transform(X)\n",
    "\n",
    "X"
   ]
  },
  {
   "cell_type": "code",
   "execution_count": 43,
   "id": "b41287d7",
   "metadata": {},
   "outputs": [
    {
     "data": {
      "text/plain": [
       "array([[0.14994708],\n",
       "       [0.14971187],\n",
       "       [0.1504175 ],\n",
       "       ...,\n",
       "       [0.14912384],\n",
       "       [0.15018229],\n",
       "       [0.15006468]])"
      ]
     },
     "execution_count": 43,
     "metadata": {},
     "output_type": "execute_result"
    }
   ],
   "source": [
    "y_scaler = MinMaxScaler()\n",
    "y = y_scaler.fit_transform(y)\n",
    "\n",
    "y"
   ]
  },
  {
   "cell_type": "markdown",
   "id": "a6f1ea87",
   "metadata": {},
   "source": [
    "Guardamos los modelos para usarlos en **streamlit** posteriormente."
   ]
  },
  {
   "cell_type": "code",
   "execution_count": 44,
   "id": "bf9d019d",
   "metadata": {},
   "outputs": [],
   "source": [
    "with open(\"data/X_scaler.pkl\", \"bw\") as file:\n",
    "    pkl.dump(X_scaler, file)\n",
    "    \n",
    "with open(\"data/y_scaler.pkl\", \"bw\") as file:\n",
    "    pkl.dump(y_scaler, file)"
   ]
  },
  {
   "cell_type": "markdown",
   "id": "4204bba6",
   "metadata": {},
   "source": [
    "### f_regression"
   ]
  },
  {
   "cell_type": "code",
   "execution_count": 45,
   "id": "aaccf335",
   "metadata": {},
   "outputs": [],
   "source": [
    "# # SelectKBest\n",
    "\n",
    "# from sklearn.feature_selection import SelectKBest\n",
    "# from sklearn.feature_selection import f_regression\n",
    "\n",
    "# k = 24\n",
    "\n",
    "# f_selection = SelectKBest(score_func = f_regression,\n",
    "#                           k          = k)\n",
    "# f_selection.fit(X_copy, y.ravel())\n",
    "# X_fs = f_selection.transform(X_copy)\n",
    "\n",
    "# X_fs.shape\n",
    "# # Se queda con las mejores k columnas"
   ]
  },
  {
   "cell_type": "code",
   "execution_count": 46,
   "id": "61481d79",
   "metadata": {},
   "outputs": [],
   "source": [
    "# # Columnas f_regression\n",
    "# feature_names[f_selection.get_support()]"
   ]
  },
  {
   "cell_type": "markdown",
   "id": "44bd6164",
   "metadata": {},
   "source": [
    "![f_regression future selection](f_regression.jpeg)"
   ]
  },
  {
   "cell_type": "markdown",
   "id": "1ad1e97e",
   "metadata": {},
   "source": [
    "### mutual_info_regression"
   ]
  },
  {
   "cell_type": "code",
   "execution_count": 47,
   "id": "1661b951",
   "metadata": {},
   "outputs": [],
   "source": [
    "# # SelectKBest\n",
    "\n",
    "# from sklearn.feature_selection import SelectKBest\n",
    "# from sklearn.feature_selection import mutual_info_regression\n",
    "\n",
    "# k = 24\n",
    "\n",
    "# f_selection = SelectKBest(score_func = mutual_info_regression,\n",
    "#                           k          = k)\n",
    "# f_selection.fit(X_copy, y.ravel())\n",
    "# X_fs = f_selection.transform(X_copy)\n",
    "\n",
    "# X_fs.shape\n",
    "# # Se queda con las mejores k columnas"
   ]
  },
  {
   "cell_type": "code",
   "execution_count": 48,
   "id": "b870b430",
   "metadata": {},
   "outputs": [],
   "source": [
    "# # Columnas mutual_info_regression\n",
    "# feature_names[f_selection.get_support()]"
   ]
  },
  {
   "cell_type": "markdown",
   "id": "2becb362",
   "metadata": {},
   "source": [
    "![mutual_info_regression future selection](mutual_info_regression.jpeg)"
   ]
  },
  {
   "cell_type": "markdown",
   "id": "6e85d042",
   "metadata": {},
   "source": [
    "Usamos **.feature_selection** para ver que columnas eran más importantes. Terminamos usando las columnas de **.features_importances** porque acabó arrojándonos una métrica decente."
   ]
  },
  {
   "cell_type": "markdown",
   "id": "e6c6b50e",
   "metadata": {},
   "source": [
    "### RandomForestRegressor (.feature_importances_)"
   ]
  },
  {
   "cell_type": "code",
   "execution_count": 49,
   "id": "4b743989",
   "metadata": {},
   "outputs": [],
   "source": [
    "# # Comprobamos con .features_importances_ qué columnas de datos son las más relevantes\n",
    "\n",
    "# random_forest = RandomForestRegressor(n_estimators = 100)\n",
    "\n",
    "# random_forest.fit(X, y.ravel())\n",
    "\n",
    "# feature_importances = random_forest.feature_importances_\n",
    "\n",
    "# # Ordenar las características de mayor a menor importancia\n",
    "# sorted_features = df_all.columns[np.argsort(feature_importances)[::-1]]"
   ]
  },
  {
   "cell_type": "markdown",
   "id": "8c22f9ed",
   "metadata": {},
   "source": [
    "![Características ordenadas de mayor a menor importancia](feature_importances.png)"
   ]
  },
  {
   "cell_type": "markdown",
   "id": "b3fac3b9",
   "metadata": {},
   "source": [
    "### train_test_split"
   ]
  },
  {
   "cell_type": "code",
   "execution_count": 50,
   "id": "87b8e4d1",
   "metadata": {},
   "outputs": [],
   "source": [
    "X_train, X_test, y_train, y_test = train_test_split(X, y, random_state = 42, test_size = 0.2)"
   ]
  },
  {
   "cell_type": "markdown",
   "id": "ce33114f",
   "metadata": {},
   "source": [
    "### Modelo"
   ]
  },
  {
   "cell_type": "code",
   "execution_count": null,
   "id": "a19e481a",
   "metadata": {},
   "outputs": [],
   "source": [
    "model = Sequential()\n",
    "\n",
    "# Entrada\n",
    "model.add(Dense(units = 128, input_shape = (X.shape[1], ), activation = \"relu\"))\n",
    "\n",
    "# Capas ocultas\n",
    "model.add(Dense(units = 256, activation = \"relu\"))\n",
    "model.add(Dropout(0.2))\n",
    "\n",
    "# model.add(Dense(units = 128, activation = \"relu\")) -----> # INNECESARIO\n",
    "# model.add(Dropout(0.2))\n",
    "# model.add(Dense(units = 64, activation = \"relu\")) -----> # INNECESARIO\n",
    "# model.add(Dropout(0.2))\n",
    "\n",
    "# Salida\n",
    "model.add(Dense(1))\n",
    "\n",
    "# Compilar el modelo\n",
    "model.compile(optimizer = \"adam\", loss = \"mse\", metrics = [\"mae\"])"
   ]
  },
  {
   "cell_type": "markdown",
   "id": "72c836eb",
   "metadata": {},
   "source": [
    "Comprobamos que al añadir nuevas **capas densas** y ganar parámetros a entrenar es peor para el modelo y para sus métricas.\n",
    "\n",
    "Un único **Dropout** es suficiente."
   ]
  },
  {
   "cell_type": "code",
   "execution_count": null,
   "id": "0c15b4d6",
   "metadata": {},
   "outputs": [],
   "source": [
    "model.summary()"
   ]
  },
  {
   "cell_type": "code",
   "execution_count": null,
   "id": "55e3b5a7",
   "metadata": {},
   "outputs": [],
   "source": [
    "history = model.fit(X_train, y_train,\n",
    "                    validation_data = (X_test, y_test),\n",
    "                    epochs = 3,\n",
    "                    verbose = 1)"
   ]
  },
  {
   "cell_type": "markdown",
   "id": "c9fccacd",
   "metadata": {},
   "source": [
    "Ajustamos los **epochs** a 3 porque comprobamos que a partir del quinto **epoch** aumenta la pérdida; 10 serían innecesarios."
   ]
  },
  {
   "cell_type": "code",
   "execution_count": null,
   "id": "f2b7aeb1",
   "metadata": {},
   "outputs": [],
   "source": [
    "y_hat = model.predict(X_test)"
   ]
  },
  {
   "cell_type": "code",
   "execution_count": null,
   "id": "514b368a",
   "metadata": {},
   "outputs": [],
   "source": [
    "r2 = r2_score(y_test, y_hat)\n",
    "print(\"R2 Score: \", r2)"
   ]
  },
  {
   "cell_type": "code",
   "execution_count": null,
   "id": "a00e84cc",
   "metadata": {},
   "outputs": [],
   "source": [
    "# Métricas\n",
    "scores = model.evaluate(X_test, y_test, verbose = 1)\n",
    "\n",
    "scores"
   ]
  },
  {
   "cell_type": "code",
   "execution_count": null,
   "id": "fe7ad5d2",
   "metadata": {},
   "outputs": [],
   "source": [
    "# loss (mean_squared_error)\n",
    "plt.plot(history.history[\"loss\"], label = \"loss\")\n",
    "plt.plot(history.history[\"val_loss\"], label = \"val_loss\")\n",
    "plt.legend()\n",
    "plt.show()"
   ]
  },
  {
   "cell_type": "code",
   "execution_count": null,
   "id": "64a9062a",
   "metadata": {},
   "outputs": [],
   "source": [
    "# mean_absolute_error\n",
    "plt.plot(history.history[\"mae\"], label = \"mae\")\n",
    "plt.plot(history.history[\"val_mae\"], label = \"val_mae\")\n",
    "plt.legend()\n",
    "plt.show()"
   ]
  },
  {
   "cell_type": "code",
   "execution_count": null,
   "id": "fa6bb303",
   "metadata": {},
   "outputs": [],
   "source": [
    "# Guardamos el modelo\n",
    "model.save(\"data/regression_model.keras\")"
   ]
  },
  {
   "cell_type": "code",
   "execution_count": 21,
   "id": "59afc58f",
   "metadata": {},
   "outputs": [],
   "source": [
    "# Cargamos el modelo\n",
    "from keras.models import load_model\n",
    "\n",
    "pretrained_model = load_model(\"data/regression_model.keras\")"
   ]
  },
  {
   "cell_type": "markdown",
   "id": "449f346a",
   "metadata": {},
   "source": [
    "Volvemos a entrenar el modelo con 2 **epochs** más esperando un mejor r2_score."
   ]
  },
  {
   "cell_type": "code",
   "execution_count": 22,
   "id": "87ba1277",
   "metadata": {},
   "outputs": [
    {
     "name": "stdout",
     "output_type": "stream",
     "text": [
      "Epoch 1/2\n",
      "708488/708488 [==============================] - 2327s 3ms/step - loss: 1.1486e-05 - mae: 0.0014 - val_loss: 9.6049e-06 - val_mae: 0.0013\n",
      "Epoch 2/2\n",
      "708488/708488 [==============================] - 2529s 4ms/step - loss: 1.1442e-05 - mae: 0.0014 - val_loss: 8.8733e-06 - val_mae: 0.0012\n"
     ]
    }
   ],
   "source": [
    "history = pretrained_model.fit(X_train, y_train,\n",
    "                               validation_data = (X_test, y_test),\n",
    "                               epochs = 2,\n",
    "                               verbose = 1)"
   ]
  },
  {
   "cell_type": "code",
   "execution_count": 24,
   "id": "5bee8696",
   "metadata": {},
   "outputs": [
    {
     "name": "stdout",
     "output_type": "stream",
     "text": [
      "177122/177122 [==============================] - 224s 1ms/step\n"
     ]
    }
   ],
   "source": [
    "y_hat = pretrained_model.predict(X_test)"
   ]
  },
  {
   "cell_type": "code",
   "execution_count": 25,
   "id": "67f69c6f",
   "metadata": {},
   "outputs": [
    {
     "name": "stdout",
     "output_type": "stream",
     "text": [
      "R2 Score:  0.7113606594936133\n"
     ]
    }
   ],
   "source": [
    "r2 = r2_score(y_test, y_hat)\n",
    "print(\"R2 Score: \", r2)"
   ]
  },
  {
   "cell_type": "code",
   "execution_count": 26,
   "id": "e3e70143",
   "metadata": {},
   "outputs": [],
   "source": [
    "# Métricas\n",
    "scores = model.evaluate(X_test, y_test, verbose = 1)\n",
    "\n",
    "scores"
   ]
  },
  {
   "cell_type": "code",
   "execution_count": 27,
   "id": "429c2b48",
   "metadata": {},
   "outputs": [
    {
     "data": {
      "image/png": "[encoded data removed]",
      "text/plain": [
       "<Figure size 640x480 with 1 Axes>"
      ]
     },
     "metadata": {},
     "output_type": "display_data"
    }
   ],
   "source": [
    "# loss (mean_squared_error)\n",
    "plt.plot(history.history[\"loss\"], label = \"loss\")\n",
    "plt.plot(history.history[\"val_loss\"], label = \"val_loss\")\n",
    "plt.legend()\n",
    "plt.show()"
   ]
  },
  {
   "cell_type": "code",
   "execution_count": 28,
   "id": "39870560",
   "metadata": {},
   "outputs": [
    {
     "data": {
      "image/png": "[encoded data removed]",
      "text/plain": [
       "<Figure size 640x480 with 1 Axes>"
      ]
     },
     "metadata": {},
     "output_type": "display_data"
    }
   ],
   "source": [
    "# mean_absolute_error\n",
    "plt.plot(history.history[\"mae\"], label = \"mae\")\n",
    "plt.plot(history.history[\"val_mae\"], label = \"val_mae\")\n",
    "plt.legend()\n",
    "plt.show()"
   ]
  },
  {
   "cell_type": "code",
   "execution_count": 30,
   "id": "8c5f24f2",
   "metadata": {},
   "outputs": [],
   "source": [
    "# Guardamos el modelo\n",
    "pretrained_model.save(\"data/regression_model_2.keras\")"
   ]
  },
  {
   "cell_type": "code",
   "execution_count": null,
   "id": "35d66de1",
   "metadata": {},
   "outputs": [],
   "source": [
    "####################### EL SIGUIENTE NOTEBOOK ES UNA COPIA DE ESTE SIN QUE EL DATASET TUVIERA OUTLIERS #########################"
   ]
  },
  {
   "cell_type": "code",
   "execution_count": null,
   "id": "81184f97",
   "metadata": {},
   "outputs": [],
   "source": [
    "#################################################### FIN #######################################################################"
   ]
  }
 ],
 "metadata": {
  "kernelspec": {
   "display_name": "tf",
   "language": "python",
   "name": "tf"
  },
  "language_info": {
   "codemirror_mode": {
    "name": "ipython",
    "version": 3
   },
   "file_extension": ".py",
   "mimetype": "text/x-python",
   "name": "python",
   "nbconvert_exporter": "python",
   "pygments_lexer": "ipython3",
   "version": "3.9.17"
  }
 },
 "nbformat": 4,
 "nbformat_minor": 5
}
